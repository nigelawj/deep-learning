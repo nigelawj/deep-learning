{
 "cells": [
  {
   "cell_type": "markdown",
   "metadata": {},
   "source": [
    "### Distributed Training\n",
    "Distributed Training can decrease training time"
   ]
  },
  {
   "cell_type": "code",
   "execution_count": 8,
   "metadata": {},
   "outputs": [],
   "source": [
    "# Imports\n",
    "import time\n",
    "import numpy as np\n",
    "import tensorflow as tf"
   ]
  },
  {
   "cell_type": "markdown",
   "metadata": {},
   "source": [
    "#### Preprocess Data"
   ]
  },
  {
   "cell_type": "code",
   "execution_count": 9,
   "metadata": {},
   "outputs": [],
   "source": [
    "(X_train, y_train), (X_test, y_test) = tf.keras.datasets.mnist.load_data()"
   ]
  },
  {
   "cell_type": "code",
   "execution_count": 10,
   "metadata": {},
   "outputs": [
    {
     "output_type": "execute_result",
     "data": {
      "text/plain": "(60000, 28, 28)"
     },
     "metadata": {},
     "execution_count": 10
    }
   ],
   "source": [
    "# Normalise data\n",
    "\n",
    "X_train = X_train/255.0\n",
    "X_test = X_test/255.0\n",
    "\n",
    "X_train.shape"
   ]
  },
  {
   "cell_type": "code",
   "execution_count": 11,
   "metadata": {},
   "outputs": [
    {
     "output_type": "execute_result",
     "data": {
      "text/plain": "(60000, 784)"
     },
     "metadata": {},
     "execution_count": 11
    }
   ],
   "source": [
    "# Reshape data\n",
    "X_train = X_train.reshape(-1, 28*28)\n",
    "X_test = X_test.reshape(-1, 28*28)\n",
    "\n",
    "X_train.shape"
   ]
  },
  {
   "cell_type": "markdown",
   "metadata": {},
   "source": [
    "#### Define a normal non-distributed CNN"
   ]
  },
  {
   "cell_type": "code",
   "execution_count": 12,
   "metadata": {},
   "outputs": [
    {
     "output_type": "stream",
     "name": "stdout",
     "text": "Model: \"sequential_2\"\n_________________________________________________________________\nLayer (type)                 Output Shape              Param #   \n=================================================================\ndense_4 (Dense)              (None, 128)               100480    \n_________________________________________________________________\ndropout_2 (Dropout)          (None, 128)               0         \n_________________________________________________________________\ndense_5 (Dense)              (None, 10)                1290      \n=================================================================\nTotal params: 101,770\nTrainable params: 101,770\nNon-trainable params: 0\n_________________________________________________________________\n"
    }
   ],
   "source": [
    "model = tf.keras.models.Sequential()\n",
    "model.add(tf.keras.layers.Dense(units=128, activation='relu', input_shape=(784,)))\n",
    "model.add(tf.keras.layers.Dropout(0.2))\n",
    "model.add(tf.keras.layers.Dense(units=10, activation='softmax')) # Output\n",
    "\n",
    "model.compile(optimizer='adam', loss='sparse_categorical_crossentropy', metrics=['sparse_categorical_accuracy'])\n",
    "\n",
    "model.summary()"
   ]
  },
  {
   "cell_type": "markdown",
   "metadata": {},
   "source": [
    "#### Mirrored Strategy"
   ]
  },
  {
   "cell_type": "code",
   "execution_count": 13,
   "metadata": {},
   "outputs": [
    {
     "output_type": "stream",
     "name": "stdout",
     "text": "INFO:tensorflow:Using MirroredStrategy with devices ('/job:localhost/replica:0/task:0/device:GPU:0',)\nINFO:tensorflow:Reduce to /job:localhost/replica:0/task:0/device:CPU:0 then broadcast to ('/job:localhost/replica:0/task:0/device:CPU:0',).\nINFO:tensorflow:Reduce to /job:localhost/replica:0/task:0/device:CPU:0 then broadcast to ('/job:localhost/replica:0/task:0/device:CPU:0',).\nModel: \"sequential_3\"\n_________________________________________________________________\nLayer (type)                 Output Shape              Param #   \n=================================================================\ndense_6 (Dense)              (None, 128)               100480    \n_________________________________________________________________\ndropout_3 (Dropout)          (None, 128)               0         \n_________________________________________________________________\ndense_7 (Dense)              (None, 10)                1290      \n=================================================================\nTotal params: 101,770\nTrainable params: 101,770\nNon-trainable params: 0\n_________________________________________________________________\n"
    }
   ],
   "source": [
    "distribute = tf.distribute.MirroredStrategy()\n",
    "\n",
    "with distribute.scope():\n",
    "    model_distributed = tf.keras.models.Sequential()\n",
    "    model_distributed.add(tf.keras.layers.Dense(units=128, activation='relu', input_shape=(784,)))\n",
    "    model_distributed.add(tf.keras.layers.Dropout(0.2))\n",
    "    model_distributed.add(tf.keras.layers.Dense(units=10, activation='softmax')) # Output\n",
    "\n",
    "    model_distributed.compile(optimizer='adam', loss='sparse_categorical_crossentropy', metrics=['sparse_categorical_accuracy'])\n",
    "\n",
    "    model_distributed.summary()"
   ]
  },
  {
   "cell_type": "markdown",
   "metadata": {},
   "source": [
    "Model training will perform slower if no. of GPUs < 2"
   ]
  },
  {
   "cell_type": "code",
   "execution_count": 14,
   "metadata": {},
   "outputs": [
    {
     "output_type": "stream",
     "name": "stdout",
     "text": "Train on 60000 samples\nEpoch 1/10\nINFO:tensorflow:Reduce to /job:localhost/replica:0/task:0/device:CPU:0 then broadcast to ('/job:localhost/replica:0/task:0/device:CPU:0',).\nINFO:tensorflow:Reduce to /job:localhost/replica:0/task:0/device:CPU:0 then broadcast to ('/job:localhost/replica:0/task:0/device:CPU:0',).\n60000/60000 [==============================] - 8s 127us/sample - loss: 0.2851 - sparse_categorical_accuracy: 0.9155\nEpoch 2/10\n60000/60000 [==============================] - 5s 82us/sample - loss: 0.1369 - sparse_categorical_accuracy: 0.9586\nEpoch 3/10\n60000/60000 [==============================] - 5s 83us/sample - loss: 0.1017 - sparse_categorical_accuracy: 0.9692\nEpoch 4/10\n60000/60000 [==============================] - 5s 81us/sample - loss: 0.0858 - sparse_categorical_accuracy: 0.9735\nEpoch 5/10\n60000/60000 [==============================] - 5s 81us/sample - loss: 0.0737 - sparse_categorical_accuracy: 0.9766\nEpoch 6/10\n60000/60000 [==============================] - 5s 81us/sample - loss: 0.0634 - sparse_categorical_accuracy: 0.9795\nEpoch 7/10\n60000/60000 [==============================] - 5s 82us/sample - loss: 0.0572 - sparse_categorical_accuracy: 0.9819\nEpoch 8/10\n60000/60000 [==============================] - 5s 82us/sample - loss: 0.0520 - sparse_categorical_accuracy: 0.9829\nEpoch 9/10\n60000/60000 [==============================] - 5s 82us/sample - loss: 0.0493 - sparse_categorical_accuracy: 0.9836\nEpoch 10/10\n60000/60000 [==============================] - 5s 82us/sample - loss: 0.0419 - sparse_categorical_accuracy: 0.9864\n"
    }
   ],
   "source": [
    "# Distributed Training\n",
    "start = time.time()\n",
    "model_distributed.fit(X_train, y_train, epochs=10, batch_size=25)\n",
    "end = time.time()"
   ]
  },
  {
   "cell_type": "code",
   "execution_count": 15,
   "metadata": {},
   "outputs": [
    {
     "output_type": "stream",
     "name": "stdout",
     "text": "Distributed training took: 51.92981576919556s\n"
    }
   ],
   "source": [
    "print(f'Distributed training took: {end-start}s')"
   ]
  },
  {
   "cell_type": "code",
   "execution_count": 16,
   "metadata": {},
   "outputs": [
    {
     "output_type": "stream",
     "name": "stdout",
     "text": "Train on 60000 samples\nEpoch 1/10\n60000/60000 [==============================] - 4s 74us/sample - loss: 0.2834 - sparse_categorical_accuracy: 0.9176\nEpoch 2/10\n60000/60000 [==============================] - 4s 70us/sample - loss: 0.1383 - sparse_categorical_accuracy: 0.9581\nEpoch 3/10\n60000/60000 [==============================] - 4s 69us/sample - loss: 0.1052 - sparse_categorical_accuracy: 0.9677\nEpoch 4/10\n60000/60000 [==============================] - 4s 72us/sample - loss: 0.0863 - sparse_categorical_accuracy: 0.9731\nEpoch 5/10\n60000/60000 [==============================] - 4s 72us/sample - loss: 0.0728 - sparse_categorical_accuracy: 0.9770\nEpoch 6/10\n60000/60000 [==============================] - 4s 74us/sample - loss: 0.0643 - sparse_categorical_accuracy: 0.9794\nEpoch 7/10\n60000/60000 [==============================] - 4s 71us/sample - loss: 0.0591 - sparse_categorical_accuracy: 0.9809\nEpoch 8/10\n60000/60000 [==============================] - 4s 74us/sample - loss: 0.0521 - sparse_categorical_accuracy: 0.9829\nEpoch 9/10\n60000/60000 [==============================] - 4s 73us/sample - loss: 0.0488 - sparse_categorical_accuracy: 0.9839\nEpoch 10/10\n60000/60000 [==============================] - 4s 71us/sample - loss: 0.0447 - sparse_categorical_accuracy: 0.9855\n"
    }
   ],
   "source": [
    "# Normal (non-distributed) Training\n",
    "start = time.time()\n",
    "model.fit(X_train, y_train, epochs=10, batch_size=25)\n",
    "end = time.time()"
   ]
  },
  {
   "cell_type": "code",
   "execution_count": 17,
   "metadata": {},
   "outputs": [
    {
     "output_type": "stream",
     "name": "stdout",
     "text": "Normal (non-distributed) training took: 43.18038249015808s\n"
    }
   ],
   "source": [
    "print(f'Normal (non-distributed) training took: {end-start}s')"
   ]
  }
 ],
 "metadata": {
  "language_info": {
   "codemirror_mode": {
    "name": "ipython",
    "version": 3
   },
   "file_extension": ".py",
   "mimetype": "text/x-python",
   "name": "python",
   "nbconvert_exporter": "python",
   "pygments_lexer": "ipython3",
   "version": "3.6.10-final"
  },
  "orig_nbformat": 2,
  "kernelspec": {
   "name": "python3",
   "display_name": "Python 3"
  }
 },
 "nbformat": 4,
 "nbformat_minor": 2
}