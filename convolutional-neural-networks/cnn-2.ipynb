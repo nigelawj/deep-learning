{
 "cells": [
  {
   "cell_type": "markdown",
   "metadata": {},
   "source": [
    "### Convolutional Neural Networks with Cifar10 Dataset\n",
    "\n",
    "Build a CNN that can classify images into (10) categories"
   ]
  },
  {
   "cell_type": "markdown",
   "metadata": {},
   "source": [
    "#### Data preprocessing"
   ]
  },
  {
   "cell_type": "code",
   "execution_count": 1,
   "metadata": {},
   "outputs": [],
   "source": [
    "# Imports\n",
    "import matplotlib.pyplot as plt\n",
    "\n",
    "from tensorflow.keras.datasets import cifar10"
   ]
  },
  {
   "cell_type": "code",
   "execution_count": 2,
   "metadata": {},
   "outputs": [],
   "source": [
    "# Class names for dataset\n",
    "class_names = ['airplane', 'automobile', 'bird', 'cat', 'deer', 'dog', 'frog', 'horse', 'ship', 'truck'] # Just FYI\n",
    "\n",
    "(X_train, y_train), (X_test, y_test) = cifar10.load_data() "
   ]
  },
  {
   "cell_type": "code",
   "execution_count": 3,
   "metadata": {},
   "outputs": [
    {
     "output_type": "execute_result",
     "data": {
      "text/plain": "(50000, 32, 32, 3)"
     },
     "metadata": {},
     "execution_count": 3
    }
   ],
   "source": [
    "# Normalise images - this time, the images are not combined into a single dimension as per ann-2.ipynb + 3rd dimension of RGB\n",
    "X_train = X_train/255.0\n",
    "X_train.shape"
   ]
  },
  {
   "cell_type": "code",
   "execution_count": 4,
   "metadata": {},
   "outputs": [
    {
     "output_type": "execute_result",
     "data": {
      "text/plain": "(10000, 32, 32, 3)"
     },
     "metadata": {},
     "execution_count": 4
    }
   ],
   "source": [
    "X_test = X_test/255.0\n",
    "X_test.shape"
   ]
  },
  {
   "cell_type": "markdown",
   "metadata": {},
   "source": [
    "#### Test Image Example"
   ]
  },
  {
   "cell_type": "code",
   "execution_count": 5,
   "metadata": {},
   "outputs": [
    {
     "output_type": "execute_result",
     "data": {
      "text/plain": "<matplotlib.image.AxesImage at 0x1f8f9f154a8>"
     },
     "metadata": {},
     "execution_count": 5
    },
    {
     "output_type": "display_data",
     "data": {
      "text/plain": "<Figure size 432x288 with 1 Axes>",
      "image/svg+xml": "<?xml version=\"1.0\" encoding=\"utf-8\" standalone=\"no\"?>\r\n<!DOCTYPE svg PUBLIC \"-//W3C//DTD SVG 1.1//EN\"\r\n  \"http://www.w3.org/Graphics/SVG/1.1/DTD/svg11.dtd\">\r\n<!-- Created with matplotlib (https://matplotlib.org/) -->\r\n<svg height=\"248.919844pt\" version=\"1.1\" viewBox=\"0 0 251.565 248.919844\" width=\"251.565pt\" xmlns=\"http://www.w3.org/2000/svg\" xmlns:xlink=\"http://www.w3.org/1999/xlink\">\r\n <defs>\r\n  <style type=\"text/css\">\r\n*{stroke-linecap:butt;stroke-linejoin:round;}\r\n  </style>\r\n </defs>\r\n <g id=\"figure_1\">\r\n  <g id=\"patch_1\">\r\n   <path d=\"M 0 248.919844 \r\nL 251.565 248.919844 \r\nL 251.565 0 \r\nL 0 0 \r\nz\r\n\" style=\"fill:none;\"/>\r\n  </g>\r\n  <g id=\"axes_1\">\r\n   <g id=\"patch_2\">\r\n    <path d=\"M 26.925 225.041719 \r\nL 244.365 225.041719 \r\nL 244.365 7.601719 \r\nL 26.925 7.601719 \r\nz\r\n\" style=\"fill:#ffffff;\"/>\r\n   </g>\r\n   <g clip-path=\"url(#p3e447a922c)\">\r\n    <image height=\"218\" id=\"imagef70131a705\" transform=\"scale(1 -1)translate(0 -218)\" width=\"218\" x=\"26.925\" xlink:href=\"data:image/png;base64,\r\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\" y=\"-7.041719\"/>\r\n   </g>\r\n   <g id=\"matplotlib.axis_1\">\r\n    <g id=\"xtick_1\">\r\n     <g id=\"line2d_1\">\r\n      <defs>\r\n       <path d=\"M 0 0 \r\nL 0 3.5 \r\n\" id=\"mbc9aa0cc08\" style=\"stroke:#000000;stroke-width:0.8;\"/>\r\n      </defs>\r\n      <g>\r\n       <use style=\"stroke:#000000;stroke-width:0.8;\" x=\"30.3225\" xlink:href=\"#mbc9aa0cc08\" y=\"225.041719\"/>\r\n      </g>\r\n     </g>\r\n     <g id=\"text_1\">\r\n      <!-- 0 -->\r\n      <defs>\r\n       <path d=\"M 31.78125 66.40625 \r\nQ 24.171875 66.40625 20.328125 58.90625 \r\nQ 16.5 51.421875 16.5 36.375 \r\nQ 16.5 21.390625 20.328125 13.890625 \r\nQ 24.171875 6.390625 31.78125 6.390625 \r\nQ 39.453125 6.390625 43.28125 13.890625 \r\nQ 47.125 21.390625 47.125 36.375 \r\nQ 47.125 51.421875 43.28125 58.90625 \r\nQ 39.453125 66.40625 31.78125 66.40625 \r\nz\r\nM 31.78125 74.21875 \r\nQ 44.046875 74.21875 50.515625 64.515625 \r\nQ 56.984375 54.828125 56.984375 36.375 \r\nQ 56.984375 17.96875 50.515625 8.265625 \r\nQ 44.046875 -1.421875 31.78125 -1.421875 \r\nQ 19.53125 -1.421875 13.0625 8.265625 \r\nQ 6.59375 17.96875 6.59375 36.375 \r\nQ 6.59375 54.828125 13.0625 64.515625 \r\nQ 19.53125 74.21875 31.78125 74.21875 \r\nz\r\n\" id=\"DejaVuSans-48\"/>\r\n      </defs>\r\n      <g transform=\"translate(27.14125 239.640156)scale(0.1 -0.1)\">\r\n       <use xlink:href=\"#DejaVuSans-48\"/>\r\n      </g>\r\n     </g>\r\n    </g>\r\n    <g id=\"xtick_2\">\r\n     <g id=\"line2d_2\">\r\n      <g>\r\n       <use style=\"stroke:#000000;stroke-width:0.8;\" x=\"64.2975\" xlink:href=\"#mbc9aa0cc08\" y=\"225.041719\"/>\r\n      </g>\r\n     </g>\r\n     <g id=\"text_2\">\r\n      <!-- 5 -->\r\n      <defs>\r\n       <path d=\"M 10.796875 72.90625 \r\nL 49.515625 72.90625 \r\nL 49.515625 64.59375 \r\nL 19.828125 64.59375 \r\nL 19.828125 46.734375 \r\nQ 21.96875 47.46875 24.109375 47.828125 \r\nQ 26.265625 48.1875 28.421875 48.1875 \r\nQ 40.625 48.1875 47.75 41.5 \r\nQ 54.890625 34.8125 54.890625 23.390625 \r\nQ 54.890625 11.625 47.5625 5.09375 \r\nQ 40.234375 -1.421875 26.90625 -1.421875 \r\nQ 22.3125 -1.421875 17.546875 -0.640625 \r\nQ 12.796875 0.140625 7.71875 1.703125 \r\nL 7.71875 11.625 \r\nQ 12.109375 9.234375 16.796875 8.0625 \r\nQ 21.484375 6.890625 26.703125 6.890625 \r\nQ 35.15625 6.890625 40.078125 11.328125 \r\nQ 45.015625 15.765625 45.015625 23.390625 \r\nQ 45.015625 31 40.078125 35.4375 \r\nQ 35.15625 39.890625 26.703125 39.890625 \r\nQ 22.75 39.890625 18.8125 39.015625 \r\nQ 14.890625 38.140625 10.796875 36.28125 \r\nz\r\n\" id=\"DejaVuSans-53\"/>\r\n      </defs>\r\n      <g transform=\"translate(61.11625 239.640156)scale(0.1 -0.1)\">\r\n       <use xlink:href=\"#DejaVuSans-53\"/>\r\n      </g>\r\n     </g>\r\n    </g>\r\n    <g id=\"xtick_3\">\r\n     <g id=\"line2d_3\">\r\n      <g>\r\n       <use style=\"stroke:#000000;stroke-width:0.8;\" x=\"98.2725\" xlink:href=\"#mbc9aa0cc08\" y=\"225.041719\"/>\r\n      </g>\r\n     </g>\r\n     <g id=\"text_3\">\r\n      <!-- 10 -->\r\n      <defs>\r\n       <path d=\"M 12.40625 8.296875 \r\nL 28.515625 8.296875 \r\nL 28.515625 63.921875 \r\nL 10.984375 60.40625 \r\nL 10.984375 69.390625 \r\nL 28.421875 72.90625 \r\nL 38.28125 72.90625 \r\nL 38.28125 8.296875 \r\nL 54.390625 8.296875 \r\nL 54.390625 0 \r\nL 12.40625 0 \r\nz\r\n\" id=\"DejaVuSans-49\"/>\r\n      </defs>\r\n      <g transform=\"translate(91.91 239.640156)scale(0.1 -0.1)\">\r\n       <use xlink:href=\"#DejaVuSans-49\"/>\r\n       <use x=\"63.623047\" xlink:href=\"#DejaVuSans-48\"/>\r\n      </g>\r\n     </g>\r\n    </g>\r\n    <g id=\"xtick_4\">\r\n     <g id=\"line2d_4\">\r\n      <g>\r\n       <use style=\"stroke:#000000;stroke-width:0.8;\" x=\"132.2475\" xlink:href=\"#mbc9aa0cc08\" y=\"225.041719\"/>\r\n      </g>\r\n     </g>\r\n     <g id=\"text_4\">\r\n      <!-- 15 -->\r\n      <g transform=\"translate(125.885 239.640156)scale(0.1 -0.1)\">\r\n       <use xlink:href=\"#DejaVuSans-49\"/>\r\n       <use x=\"63.623047\" xlink:href=\"#DejaVuSans-53\"/>\r\n      </g>\r\n     </g>\r\n    </g>\r\n    <g id=\"xtick_5\">\r\n     <g id=\"line2d_5\">\r\n      <g>\r\n       <use style=\"stroke:#000000;stroke-width:0.8;\" x=\"166.2225\" xlink:href=\"#mbc9aa0cc08\" y=\"225.041719\"/>\r\n      </g>\r\n     </g>\r\n     <g id=\"text_5\">\r\n      <!-- 20 -->\r\n      <defs>\r\n       <path d=\"M 19.1875 8.296875 \r\nL 53.609375 8.296875 \r\nL 53.609375 0 \r\nL 7.328125 0 \r\nL 7.328125 8.296875 \r\nQ 12.9375 14.109375 22.625 23.890625 \r\nQ 32.328125 33.6875 34.8125 36.53125 \r\nQ 39.546875 41.84375 41.421875 45.53125 \r\nQ 43.3125 49.21875 43.3125 52.78125 \r\nQ 43.3125 58.59375 39.234375 62.25 \r\nQ 35.15625 65.921875 28.609375 65.921875 \r\nQ 23.96875 65.921875 18.8125 64.3125 \r\nQ 13.671875 62.703125 7.8125 59.421875 \r\nL 7.8125 69.390625 \r\nQ 13.765625 71.78125 18.9375 73 \r\nQ 24.125 74.21875 28.421875 74.21875 \r\nQ 39.75 74.21875 46.484375 68.546875 \r\nQ 53.21875 62.890625 53.21875 53.421875 \r\nQ 53.21875 48.921875 51.53125 44.890625 \r\nQ 49.859375 40.875 45.40625 35.40625 \r\nQ 44.1875 33.984375 37.640625 27.21875 \r\nQ 31.109375 20.453125 19.1875 8.296875 \r\nz\r\n\" id=\"DejaVuSans-50\"/>\r\n      </defs>\r\n      <g transform=\"translate(159.86 239.640156)scale(0.1 -0.1)\">\r\n       <use xlink:href=\"#DejaVuSans-50\"/>\r\n       <use x=\"63.623047\" xlink:href=\"#DejaVuSans-48\"/>\r\n      </g>\r\n     </g>\r\n    </g>\r\n    <g id=\"xtick_6\">\r\n     <g id=\"line2d_6\">\r\n      <g>\r\n       <use style=\"stroke:#000000;stroke-width:0.8;\" x=\"200.1975\" xlink:href=\"#mbc9aa0cc08\" y=\"225.041719\"/>\r\n      </g>\r\n     </g>\r\n     <g id=\"text_6\">\r\n      <!-- 25 -->\r\n      <g transform=\"translate(193.835 239.640156)scale(0.1 -0.1)\">\r\n       <use xlink:href=\"#DejaVuSans-50\"/>\r\n       <use x=\"63.623047\" xlink:href=\"#DejaVuSans-53\"/>\r\n      </g>\r\n     </g>\r\n    </g>\r\n    <g id=\"xtick_7\">\r\n     <g id=\"line2d_7\">\r\n      <g>\r\n       <use style=\"stroke:#000000;stroke-width:0.8;\" x=\"234.1725\" xlink:href=\"#mbc9aa0cc08\" y=\"225.041719\"/>\r\n      </g>\r\n     </g>\r\n     <g id=\"text_7\">\r\n      <!-- 30 -->\r\n      <defs>\r\n       <path d=\"M 40.578125 39.3125 \r\nQ 47.65625 37.796875 51.625 33 \r\nQ 55.609375 28.21875 55.609375 21.1875 \r\nQ 55.609375 10.40625 48.1875 4.484375 \r\nQ 40.765625 -1.421875 27.09375 -1.421875 \r\nQ 22.515625 -1.421875 17.65625 -0.515625 \r\nQ 12.796875 0.390625 7.625 2.203125 \r\nL 7.625 11.71875 \r\nQ 11.71875 9.328125 16.59375 8.109375 \r\nQ 21.484375 6.890625 26.8125 6.890625 \r\nQ 36.078125 6.890625 40.9375 10.546875 \r\nQ 45.796875 14.203125 45.796875 21.1875 \r\nQ 45.796875 27.640625 41.28125 31.265625 \r\nQ 36.765625 34.90625 28.71875 34.90625 \r\nL 20.21875 34.90625 \r\nL 20.21875 43.015625 \r\nL 29.109375 43.015625 \r\nQ 36.375 43.015625 40.234375 45.921875 \r\nQ 44.09375 48.828125 44.09375 54.296875 \r\nQ 44.09375 59.90625 40.109375 62.90625 \r\nQ 36.140625 65.921875 28.71875 65.921875 \r\nQ 24.65625 65.921875 20.015625 65.03125 \r\nQ 15.375 64.15625 9.8125 62.3125 \r\nL 9.8125 71.09375 \r\nQ 15.4375 72.65625 20.34375 73.4375 \r\nQ 25.25 74.21875 29.59375 74.21875 \r\nQ 40.828125 74.21875 47.359375 69.109375 \r\nQ 53.90625 64.015625 53.90625 55.328125 \r\nQ 53.90625 49.265625 50.4375 45.09375 \r\nQ 46.96875 40.921875 40.578125 39.3125 \r\nz\r\n\" id=\"DejaVuSans-51\"/>\r\n      </defs>\r\n      <g transform=\"translate(227.81 239.640156)scale(0.1 -0.1)\">\r\n       <use xlink:href=\"#DejaVuSans-51\"/>\r\n       <use x=\"63.623047\" xlink:href=\"#DejaVuSans-48\"/>\r\n      </g>\r\n     </g>\r\n    </g>\r\n   </g>\r\n   <g id=\"matplotlib.axis_2\">\r\n    <g id=\"ytick_1\">\r\n     <g id=\"line2d_8\">\r\n      <defs>\r\n       <path d=\"M 0 0 \r\nL -3.5 0 \r\n\" id=\"m395e9f22f3\" style=\"stroke:#000000;stroke-width:0.8;\"/>\r\n      </defs>\r\n      <g>\r\n       <use style=\"stroke:#000000;stroke-width:0.8;\" x=\"26.925\" xlink:href=\"#m395e9f22f3\" y=\"10.999219\"/>\r\n      </g>\r\n     </g>\r\n     <g id=\"text_8\">\r\n      <!-- 0 -->\r\n      <g transform=\"translate(13.5625 14.798437)scale(0.1 -0.1)\">\r\n       <use xlink:href=\"#DejaVuSans-48\"/>\r\n      </g>\r\n     </g>\r\n    </g>\r\n    <g id=\"ytick_2\">\r\n     <g id=\"line2d_9\">\r\n      <g>\r\n       <use style=\"stroke:#000000;stroke-width:0.8;\" x=\"26.925\" xlink:href=\"#m395e9f22f3\" y=\"44.974219\"/>\r\n      </g>\r\n     </g>\r\n     <g id=\"text_9\">\r\n      <!-- 5 -->\r\n      <g transform=\"translate(13.5625 48.773437)scale(0.1 -0.1)\">\r\n       <use xlink:href=\"#DejaVuSans-53\"/>\r\n      </g>\r\n     </g>\r\n    </g>\r\n    <g id=\"ytick_3\">\r\n     <g id=\"line2d_10\">\r\n      <g>\r\n       <use style=\"stroke:#000000;stroke-width:0.8;\" x=\"26.925\" xlink:href=\"#m395e9f22f3\" y=\"78.949219\"/>\r\n      </g>\r\n     </g>\r\n     <g id=\"text_10\">\r\n      <!-- 10 -->\r\n      <g transform=\"translate(7.2 82.748437)scale(0.1 -0.1)\">\r\n       <use xlink:href=\"#DejaVuSans-49\"/>\r\n       <use x=\"63.623047\" xlink:href=\"#DejaVuSans-48\"/>\r\n      </g>\r\n     </g>\r\n    </g>\r\n    <g id=\"ytick_4\">\r\n     <g id=\"line2d_11\">\r\n      <g>\r\n       <use style=\"stroke:#000000;stroke-width:0.8;\" x=\"26.925\" xlink:href=\"#m395e9f22f3\" y=\"112.924219\"/>\r\n      </g>\r\n     </g>\r\n     <g id=\"text_11\">\r\n      <!-- 15 -->\r\n      <g transform=\"translate(7.2 116.723437)scale(0.1 -0.1)\">\r\n       <use xlink:href=\"#DejaVuSans-49\"/>\r\n       <use x=\"63.623047\" xlink:href=\"#DejaVuSans-53\"/>\r\n      </g>\r\n     </g>\r\n    </g>\r\n    <g id=\"ytick_5\">\r\n     <g id=\"line2d_12\">\r\n      <g>\r\n       <use style=\"stroke:#000000;stroke-width:0.8;\" x=\"26.925\" xlink:href=\"#m395e9f22f3\" y=\"146.899219\"/>\r\n      </g>\r\n     </g>\r\n     <g id=\"text_12\">\r\n      <!-- 20 -->\r\n      <g transform=\"translate(7.2 150.698437)scale(0.1 -0.1)\">\r\n       <use xlink:href=\"#DejaVuSans-50\"/>\r\n       <use x=\"63.623047\" xlink:href=\"#DejaVuSans-48\"/>\r\n      </g>\r\n     </g>\r\n    </g>\r\n    <g id=\"ytick_6\">\r\n     <g id=\"line2d_13\">\r\n      <g>\r\n       <use style=\"stroke:#000000;stroke-width:0.8;\" x=\"26.925\" xlink:href=\"#m395e9f22f3\" y=\"180.874219\"/>\r\n      </g>\r\n     </g>\r\n     <g id=\"text_13\">\r\n      <!-- 25 -->\r\n      <g transform=\"translate(7.2 184.673437)scale(0.1 -0.1)\">\r\n       <use xlink:href=\"#DejaVuSans-50\"/>\r\n       <use x=\"63.623047\" xlink:href=\"#DejaVuSans-53\"/>\r\n      </g>\r\n     </g>\r\n    </g>\r\n    <g id=\"ytick_7\">\r\n     <g id=\"line2d_14\">\r\n      <g>\r\n       <use style=\"stroke:#000000;stroke-width:0.8;\" x=\"26.925\" xlink:href=\"#m395e9f22f3\" y=\"214.849219\"/>\r\n      </g>\r\n     </g>\r\n     <g id=\"text_14\">\r\n      <!-- 30 -->\r\n      <g transform=\"translate(7.2 218.648437)scale(0.1 -0.1)\">\r\n       <use xlink:href=\"#DejaVuSans-51\"/>\r\n       <use x=\"63.623047\" xlink:href=\"#DejaVuSans-48\"/>\r\n      </g>\r\n     </g>\r\n    </g>\r\n   </g>\r\n   <g id=\"patch_3\">\r\n    <path d=\"M 26.925 225.041719 \r\nL 26.925 7.601719 \r\n\" style=\"fill:none;stroke:#000000;stroke-linecap:square;stroke-linejoin:miter;stroke-width:0.8;\"/>\r\n   </g>\r\n   <g id=\"patch_4\">\r\n    <path d=\"M 244.365 225.041719 \r\nL 244.365 7.601719 \r\n\" style=\"fill:none;stroke:#000000;stroke-linecap:square;stroke-linejoin:miter;stroke-width:0.8;\"/>\r\n   </g>\r\n   <g id=\"patch_5\">\r\n    <path d=\"M 26.925 225.041719 \r\nL 244.365 225.041719 \r\n\" style=\"fill:none;stroke:#000000;stroke-linecap:square;stroke-linejoin:miter;stroke-width:0.8;\"/>\r\n   </g>\r\n   <g id=\"patch_6\">\r\n    <path d=\"M 26.925 7.601719 \r\nL 244.365 7.601719 \r\n\" style=\"fill:none;stroke:#000000;stroke-linecap:square;stroke-linejoin:miter;stroke-width:0.8;\"/>\r\n   </g>\r\n  </g>\r\n </g>\r\n <defs>\r\n  <clipPath id=\"p3e447a922c\">\r\n   <rect height=\"217.44\" width=\"217.44\" x=\"26.925\" y=\"7.601719\"/>\r\n  </clipPath>\r\n </defs>\r\n</svg>\r\n",
      "image/png": "[encoded data removed]"
     },
     "metadata": {
      "needs_background": "light"
     }
    }
   ],
   "source": [
    "plt.imshow(X_test[7])"
   ]
  },
  {
   "cell_type": "markdown",
   "metadata": {},
   "source": [
    "#### Define Model"
   ]
  },
  {
   "cell_type": "code",
   "execution_count": 6,
   "metadata": {},
   "outputs": [],
   "source": [
    "from tensorflow.keras.models import Sequential\n",
    "from tensorflow.keras.layers import Conv2D, MaxPool2D, Flatten, Dense, Dropout\n",
    "\n",
    "cnn = Sequential()\n",
    "\n",
    "'''\n",
    "filters - No. of filters\n",
    "kernel_size - size of filter (kernel)\n",
    "padding - same vs. valid\n",
    "    > same will pad kernel with 0 around edges of image, whereas valid will ignore edges when kernel is not 'filled' with pixels\n",
    "activation - Activation Function\n",
    "input_shape\n",
    "'''\n",
    "cnn.add(Conv2D(filters=32, kernel_size=3, padding='same', activation='relu', input_shape=[32, 32, 3]))"
   ]
  },
  {
   "cell_type": "code",
   "execution_count": 7,
   "metadata": {},
   "outputs": [],
   "source": [
    "# Adding a second layer\n",
    "cnn.add(Conv2D(filters=32, kernel_size=3, padding='same', activation='relu'))\n",
    "\n",
    "# Max-pooling layer\n",
    "\n",
    "# Only keeps the most important/prominent features when striding with the filter to reduce dimensions (complexity) of training data\n",
    "# i.e. keeps only the most important information\n",
    "\n",
    "'''\n",
    "pool_size - size of pooling filter\n",
    "strides - stride (how many pixels traversed at each step) of kernel\n",
    "'''\n",
    "cnn.add(MaxPool2D(pool_size=2, strides=2, padding='valid'))"
   ]
  },
  {
   "cell_type": "code",
   "execution_count": 8,
   "metadata": {},
   "outputs": [],
   "source": [
    "# Third layer\n",
    "cnn.add(Conv2D(filters=64, kernel_size=3, padding='same', activation='relu'))"
   ]
  },
  {
   "cell_type": "code",
   "execution_count": 9,
   "metadata": {},
   "outputs": [],
   "source": [
    "# Fourth layer with a Max-pooling layer\n",
    "cnn.add(Conv2D(filters=64, kernel_size=3, padding='same', activation='relu'))\n",
    "cnn.add(MaxPool2D(pool_size=2, strides=2, padding='valid'))"
   ]
  },
  {
   "cell_type": "code",
   "execution_count": 10,
   "metadata": {},
   "outputs": [],
   "source": [
    "# Flatten layer\n",
    "cnn.add(Flatten())\n",
    "\n",
    "# First Dense layer\n",
    "cnn.add(Dense(units=128, activation='relu'))\n",
    "cnn.add(Dropout(0.4))"
   ]
  },
  {
   "cell_type": "code",
   "execution_count": 11,
   "metadata": {},
   "outputs": [],
   "source": [
    "# Output layer\n",
    "cnn.add(Dense(units=10, activation='softmax'))\n",
    "\n",
    "cnn.compile(optimizer='adam', loss='sparse_categorical_crossentropy', metrics=['sparse_categorical_accuracy'])"
   ]
  },
  {
   "cell_type": "code",
   "execution_count": 12,
   "metadata": {},
   "outputs": [
    {
     "output_type": "stream",
     "name": "stdout",
     "text": "Model: \"sequential\"\n_________________________________________________________________\nLayer (type)                 Output Shape              Param #   \n=================================================================\nconv2d (Conv2D)              (None, 32, 32, 32)        896       \n_________________________________________________________________\nconv2d_1 (Conv2D)            (None, 32, 32, 32)        9248      \n_________________________________________________________________\nmax_pooling2d (MaxPooling2D) (None, 16, 16, 32)        0         \n_________________________________________________________________\nconv2d_2 (Conv2D)            (None, 16, 16, 64)        18496     \n_________________________________________________________________\nconv2d_3 (Conv2D)            (None, 16, 16, 64)        36928     \n_________________________________________________________________\nmax_pooling2d_1 (MaxPooling2 (None, 8, 8, 64)          0         \n_________________________________________________________________\nflatten (Flatten)            (None, 4096)              0         \n_________________________________________________________________\ndense (Dense)                (None, 128)               524416    \n_________________________________________________________________\ndropout (Dropout)            (None, 128)               0         \n_________________________________________________________________\ndense_1 (Dense)              (None, 10)                1290      \n=================================================================\nTotal params: 591,274\nTrainable params: 591,274\nNon-trainable params: 0\n_________________________________________________________________\n"
    }
   ],
   "source": [
    "cnn.summary()"
   ]
  },
  {
   "cell_type": "markdown",
   "metadata": {},
   "source": [
    "#### Training the CNN"
   ]
  },
  {
   "cell_type": "code",
   "execution_count": 13,
   "metadata": {},
   "outputs": [
    {
     "output_type": "stream",
     "name": "stdout",
     "text": "Train on 50000 samples\nEpoch 1/20\n50000/50000 [==============================] - 9s 172us/sample - loss: 1.5131 - sparse_categorical_accuracy: 0.4488\nEpoch 2/20\n50000/50000 [==============================] - 7s 137us/sample - loss: 1.1087 - sparse_categorical_accuracy: 0.6104\nEpoch 3/20\n50000/50000 [==============================] - 7s 137us/sample - loss: 0.9345 - sparse_categorical_accuracy: 0.6741\nEpoch 4/20\n50000/50000 [==============================] - 7s 139us/sample - loss: 0.8281 - sparse_categorical_accuracy: 0.7129\nEpoch 5/20\n50000/50000 [==============================] - 7s 138us/sample - loss: 0.7414 - sparse_categorical_accuracy: 0.7416\nEpoch 6/20\n50000/50000 [==============================] - 7s 137us/sample - loss: 0.6813 - sparse_categorical_accuracy: 0.7599\nEpoch 7/20\n50000/50000 [==============================] - 7s 137us/sample - loss: 0.6164 - sparse_categorical_accuracy: 0.7826\nEpoch 8/20\n50000/50000 [==============================] - 7s 138us/sample - loss: 0.5702 - sparse_categorical_accuracy: 0.7972\nEpoch 9/20\n50000/50000 [==============================] - 7s 137us/sample - loss: 0.5194 - sparse_categorical_accuracy: 0.8146\nEpoch 10/20\n50000/50000 [==============================] - 7s 138us/sample - loss: 0.4803 - sparse_categorical_accuracy: 0.8275\nEpoch 11/20\n50000/50000 [==============================] - 7s 138us/sample - loss: 0.4435 - sparse_categorical_accuracy: 0.8390\nEpoch 12/20\n50000/50000 [==============================] - 7s 139us/sample - loss: 0.4130 - sparse_categorical_accuracy: 0.8507\nEpoch 13/20\n50000/50000 [==============================] - 7s 140us/sample - loss: 0.3876 - sparse_categorical_accuracy: 0.8607\nEpoch 14/20\n50000/50000 [==============================] - 7s 140us/sample - loss: 0.3675 - sparse_categorical_accuracy: 0.8682\nEpoch 15/20\n50000/50000 [==============================] - 7s 137us/sample - loss: 0.3449 - sparse_categorical_accuracy: 0.8757\nEpoch 16/20\n50000/50000 [==============================] - 7s 137us/sample - loss: 0.3351 - sparse_categorical_accuracy: 0.8782\nEpoch 17/20\n50000/50000 [==============================] - 7s 137us/sample - loss: 0.3184 - sparse_categorical_accuracy: 0.8862\nEpoch 18/20\n50000/50000 [==============================] - 7s 138us/sample - loss: 0.2954 - sparse_categorical_accuracy: 0.8928\nEpoch 19/20\n50000/50000 [==============================] - 7s 145us/sample - loss: 0.2912 - sparse_categorical_accuracy: 0.8955\nEpoch 20/20\n50000/50000 [==============================] - 7s 141us/sample - loss: 0.2724 - sparse_categorical_accuracy: 0.9010\n"
    },
    {
     "output_type": "execute_result",
     "data": {
      "text/plain": "<tensorflow.python.keras.callbacks.History at 0x1f8864ca7b8>"
     },
     "metadata": {},
     "execution_count": 13
    }
   ],
   "source": [
    "cnn.fit(X_train, y_train, epochs=20) # Train for 20 epochs"
   ]
  },
  {
   "cell_type": "code",
   "execution_count": 14,
   "metadata": {},
   "outputs": [
    {
     "output_type": "stream",
     "name": "stdout",
     "text": "10000/10000 [==============================] - 1s 91us/sample - loss: 1.1017 - sparse_categorical_accuracy: 0.7513\nTest accuracy: 0.7512999773025513\n"
    }
   ],
   "source": [
    "test_loss, test_accuracy = cnn.evaluate(X_test, y_test)\n",
    "\n",
    "print(f'Test accuracy: {test_accuracy}')"
   ]
  }
 ],
 "metadata": {
  "language_info": {
   "codemirror_mode": {
    "name": "ipython",
    "version": 3
   },
   "file_extension": ".py",
   "mimetype": "text/x-python",
   "name": "python",
   "nbconvert_exporter": "python",
   "pygments_lexer": "ipython3",
   "version": "3.6.10-final"
  },
  "orig_nbformat": 2,
  "kernelspec": {
   "name": "python3",
   "display_name": "Python 3"
  }
 },
 "nbformat": 4,
 "nbformat_minor": 2
}