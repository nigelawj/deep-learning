{
 "cells": [
  {
   "cell_type": "markdown",
   "metadata": {},
   "source": [
    "### Artificial Neural Networks with Fashion MNIST Dataset\n",
    "Build an ANN that can classify the images into (10) categories"
   ]
  },
  {
   "cell_type": "code",
   "execution_count": 1,
   "metadata": {},
   "outputs": [],
   "source": [
    "# Imports\n",
    "import numpy as np\n",
    "from tensorflow.keras.datasets import fashion_mnist"
   ]
  },
  {
   "cell_type": "markdown",
   "metadata": {},
   "source": [
    "#### Preprocess Data"
   ]
  },
  {
   "cell_type": "code",
   "execution_count": 2,
   "metadata": {},
   "outputs": [],
   "source": [
    "(X_train, y_train), (X_test, y_test) = fashion_mnist.load_data()\n",
    "\n",
    "# Normalise image - pixels range from 0-255\n",
    "X_train = X_train/255.0\n",
    "X_test = X_test/255.0"
   ]
  },
  {
   "cell_type": "code",
   "execution_count": 3,
   "metadata": {},
   "outputs": [
    {
     "output_type": "execute_result",
     "data": {
      "text/plain": "(60000, 28, 28)"
     },
     "metadata": {},
     "execution_count": 3
    }
   ],
   "source": [
    "X_train.shape"
   ]
  },
  {
   "cell_type": "markdown",
   "metadata": {},
   "source": [
    "#### Reshape data"
   ]
  },
  {
   "cell_type": "code",
   "execution_count": 4,
   "metadata": {},
   "outputs": [
    {
     "output_type": "execute_result",
     "data": {
      "text/plain": "(60000, 784)"
     },
     "metadata": {},
     "execution_count": 4
    }
   ],
   "source": [
    "# Each image is 28x28, reshape dataset to [-1, height*width]\n",
    "X_train = X_train.reshape(-1, 28*28) # Combine the image data into a single dimension\n",
    "\n",
    "X_train.shape"
   ]
  },
  {
   "cell_type": "code",
   "execution_count": 5,
   "metadata": {},
   "outputs": [],
   "source": [
    "X_test = X_test.reshape(-1, 28*28) # Same for test data"
   ]
  },
  {
   "cell_type": "markdown",
   "metadata": {},
   "source": [
    "#### Defining the model"
   ]
  },
  {
   "cell_type": "code",
   "execution_count": 6,
   "metadata": {},
   "outputs": [],
   "source": [
    "from tensorflow.keras.models import Sequential\n",
    "from tensorflow.keras.layers import Dense, Dropout"
   ]
  },
  {
   "cell_type": "code",
   "execution_count": 7,
   "metadata": {},
   "outputs": [],
   "source": [
    "ann = Sequential()\n",
    "\n",
    "# No. of neurons - 128\n",
    "# Activation function - ReLU\n",
    "# Input shape - (784, )\n",
    "ann.add(Dense(units=128, activation='relu', input_shape=(784, )))"
   ]
  },
  {
   "cell_type": "code",
   "execution_count": 8,
   "metadata": {},
   "outputs": [],
   "source": [
    "# Add dropout layer\n",
    "ann.add(Dropout(0.2)) # Randomly disables 20% of neurons (set to 0) at each epoch to reduce overfitting\n",
    "\n",
    "# Add second layer (to improve model)\n",
    "ann.add(Dense(units=64, activation='relu'))\n",
    "ann.add(Dropout(0.4))\n",
    "\n",
    "# Output layer\n",
    "'''\n",
    "No. of target classes - 10\n",
    "Activation function - Softmax: converts output into probabilities of belonging to each class that sum to 1\n",
    "'''\n",
    "ann.add(Dense(units=10, activation='softmax'))"
   ]
  },
  {
   "cell_type": "code",
   "execution_count": 9,
   "metadata": {},
   "outputs": [
    {
     "output_type": "stream",
     "name": "stdout",
     "text": "Model: \"sequential\"\n_________________________________________________________________\nLayer (type)                 Output Shape              Param #   \n=================================================================\ndense (Dense)                (None, 128)               100480    \n_________________________________________________________________\ndropout (Dropout)            (None, 128)               0         \n_________________________________________________________________\ndense_1 (Dense)              (None, 64)                8256      \n_________________________________________________________________\ndropout_1 (Dropout)          (None, 64)                0         \n_________________________________________________________________\ndense_2 (Dense)              (None, 10)                650       \n=================================================================\nTotal params: 109,386\nTrainable params: 109,386\nNon-trainable params: 0\n_________________________________________________________________\n"
    }
   ],
   "source": [
    "# Optimiser - Adam\n",
    "# Loss - Sparse softmax (categorical) cross entropy\n",
    "ann.compile(optimizer='adam', loss='sparse_categorical_crossentropy', metrics=['sparse_categorical_accuracy'])\n",
    "\n",
    "ann.summary()"
   ]
  },
  {
   "cell_type": "markdown",
   "metadata": {},
   "source": [
    "#### Training the ANN"
   ]
  },
  {
   "cell_type": "code",
   "execution_count": 10,
   "metadata": {},
   "outputs": [
    {
     "output_type": "stream",
     "name": "stdout",
     "text": "Train on 60000 samples\nEpoch 1/10\n60000/60000 [==============================] - 4s 72us/sample - loss: 0.6338 - sparse_categorical_accuracy: 0.7762\nEpoch 2/10\n60000/60000 [==============================] - 4s 62us/sample - loss: 0.4562 - sparse_categorical_accuracy: 0.8389\nEpoch 3/10\n60000/60000 [==============================] - 4s 62us/sample - loss: 0.4220 - sparse_categorical_accuracy: 0.8491\nEpoch 4/10\n60000/60000 [==============================] - 4s 65us/sample - loss: 0.3981 - sparse_categorical_accuracy: 0.8578\nEpoch 5/10\n60000/60000 [==============================] - 4s 62us/sample - loss: 0.3779 - sparse_categorical_accuracy: 0.8639\nEpoch 6/10\n60000/60000 [==============================] - 4s 59us/sample - loss: 0.3664 - sparse_categorical_accuracy: 0.8679\nEpoch 7/10\n60000/60000 [==============================] - 4s 60us/sample - loss: 0.3561 - sparse_categorical_accuracy: 0.8719\nEpoch 8/10\n60000/60000 [==============================] - 4s 60us/sample - loss: 0.3456 - sparse_categorical_accuracy: 0.8753\nEpoch 9/10\n60000/60000 [==============================] - 4s 59us/sample - loss: 0.3381 - sparse_categorical_accuracy: 0.8779\nEpoch 10/10\n60000/60000 [==============================] - 4s 62us/sample - loss: 0.3321 - sparse_categorical_accuracy: 0.8783\n"
    },
    {
     "output_type": "execute_result",
     "data": {
      "text/plain": "<tensorflow.python.keras.callbacks.History at 0x1a28764ae80>"
     },
     "metadata": {},
     "execution_count": 10
    }
   ],
   "source": [
    "ann.fit(X_train, y_train, epochs=10)"
   ]
  },
  {
   "cell_type": "markdown",
   "metadata": {},
   "source": [
    "#### Saving the model"
   ]
  },
  {
   "cell_type": "code",
   "execution_count": 11,
   "metadata": {},
   "outputs": [
    {
     "output_type": "stream",
     "name": "stdout",
     "text": "10000/10000 [==============================] - 1s 58us/sample - loss: 0.3560 - sparse_categorical_accuracy: 0.8718\n"
    }
   ],
   "source": [
    "test_loss, test_accuracy = ann.evaluate(X_test, y_test)"
   ]
  },
  {
   "cell_type": "code",
   "execution_count": 12,
   "metadata": {},
   "outputs": [
    {
     "output_type": "stream",
     "name": "stdout",
     "text": "Test Accuracy: 0.8718000054359436\n"
    }
   ],
   "source": [
    "print(f'Test Accuracy: {test_accuracy}')"
   ]
  },
  {
   "cell_type": "code",
   "execution_count": 16,
   "metadata": {},
   "outputs": [
    {
     "output_type": "stream",
     "name": "stdout",
     "text": "INFO:tensorflow:Assets written to: fashion_mnist_model\\assets\n"
    }
   ],
   "source": [
    "from pathlib import Path\n",
    "\n",
    "# Do a simple model save in PB format (no need for tf.keras.ModelCheckpoint)\n",
    "ann.save(str(Path('./fashion_mnist_model')))"
   ]
  }
 ],
 "metadata": {
  "language_info": {
   "codemirror_mode": {
    "name": "ipython",
    "version": 3
   },
   "file_extension": ".py",
   "mimetype": "text/x-python",
   "name": "python",
   "nbconvert_exporter": "python",
   "pygments_lexer": "ipython3",
   "version": "3.6.10-final"
  },
  "orig_nbformat": 2,
  "kernelspec": {
   "name": "python3",
   "display_name": "Python 3"
  }
 },
 "nbformat": 4,
 "nbformat_minor": 2
}